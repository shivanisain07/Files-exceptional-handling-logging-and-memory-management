{
  "nbformat": 4,
  "nbformat_minor": 0,
  "metadata": {
    "colab": {
      "provenance": []
    },
    "kernelspec": {
      "name": "python3",
      "display_name": "Python 3"
    },
    "language_info": {
      "name": "python"
    }
  },
  "cells": [
    {
      "cell_type": "markdown",
      "source": [
        "1.  What is the difference between interpreted and compiled languages?\n",
        "  - Interpreted language follows one step to get from source code to execution. A compiled language is converted into machine code so that the processor can execute it. An interpreted language is a language in which the implementations execute instructions directly without earlier compiling a program into machine language.\n",
        "\n",
        "2. What is exception handling in Python?\n",
        " - Exception handling in Python is a way to manage and respond to errors that occur while a program is running. It allows a program to continue running or exit gracefully instead of crashing.\n",
        "\n",
        "3.  What is the purpose of the finally block in exception handling\n",
        "\n",
        " - The finally block in Java is a crucial part of exception handling. It is used to execute important code such as closing resources, regardless of whether an exception is thrown or not. The finally block always executes when the try block exits, ensuring that cleanup code runs.\n",
        "\n",
        "4. What is logging in Python?\n",
        " - Python logging is a module that tracks events that occur while a program is running. It's a useful tool for debugging, troubleshooting, and monitoring a program.\n",
        "\n",
        "5. What is the significance of the __del__ method in Python?\n",
        " - In Python, the __del__ method, also known as a destructor, is a special method that is called when an object is about to be destroyed, allowing for any necessary cleanup or release of resources held by that object before it is garbage collected; essentially, it's a way to perform finalization tasks on an object before it is removed from memory.\n",
        "\n",
        "6. What is the difference between import and from ... import in Python\n",
        " - “import” in Python loads a module into its own namespace whereas “from” imports a module into the current namespace\n",
        "\n",
        "7. How can you handle multiple exceptions in Python\n",
        " - In Python, we can handle multiple exceptions in a single try-except block by using a tuple of exception types. This is useful when different exceptions require similar handling logic.\n",
        "\n",
        "8. What is the purpose of the with statement when handling files in Python\n",
        " - The with statement in Python manages resources like files, database connections, and network sockets. It ensures that resources are properly initialized and closed, even if an exception occurs. This makes code cleaner, more readable, and more efficient.\n",
        "\n",
        "9. What is the difference between multithreading and multiprocessing\n",
        " - Multithreading and multiprocessing are both ways to increase computing power by running multiple processes or threads simultaneously. The main difference is that multithreading uses a single processor with multiple threads, while multiprocessing uses multiple processors\n",
        "\n",
        "10. What are the advantages of using logging in a program\n",
        " -Logging in a program helps developers identify and fix issues, monitor performance, and improve security. It can also help improve customer experience and reduce response times.\n",
        "\n",
        "11. What is memory management in Python\n",
        " - Memory management in Python is the process of allocating and freeing up memory for programs to run efficiently. Python automatically manages memory, which makes it more efficient than other programming languages.\n",
        "\n",
        "12.  What are the basic steps involved in exception handling in Python\n",
        " - The basic steps for exception handling in Python are:\n",
        "Use the try block to test code for errors\n",
        "Use the except block to handle errors that occur in the try block\n",
        "Use the else block to run code if no exceptions occur in the try block\n",
        "Use the finally block to run code regardless of whether an exception occurs\n",
        "\n",
        "13. Why is memory management important in Python\n",
        " - Memory management in Python is important because it helps prevent errors and crashes, and it allows for more efficient code.\n",
        "\n",
        "14. What is the role of try and except in exception handling\n",
        " - In Python, the try and except blocks are used to handle exceptions, or errors, in a program. The try block tests a block of code for errors, and the except block handles those errors.\n",
        "\n",
        "15. How does Python's garbage collection system work\n",
        " - Python's garbage collection system automatically removes objects from memory that are no longer in use. It uses two main methods to do this: reference counting and generational garbage collection.\n",
        "\n",
        "16. What is the purpose of the else block in exception handling\n",
        " - The purpose of the else block in exception handling is to execute code when there are no exceptions raised in the try block. It's useful for performing specific actions when the try block succeeds.\n",
        "\n",
        "17. What are the common logging levels in Python\n",
        " - The commo logging levels in pyhton are FATAL , ERROR , WARN , INFO , DEBUG , and TRACE.\n",
        "\n",
        "18. What is the difference between os.fork() and multiprocessing in Python.\n",
        " - os. fork() method in Python provides the implementation of the fork() system, which creates a child or a forked process. Calling fork() results in the creation of an exact copy of the parent process.  Multiprocessing in Python is a built-in package that allows the system to run multiple processes simultaneously. It will enable the breaking of applications into smaller threads that can run independent.\n",
        "\n",
        "19. What is the importance of closing a file in Python\n",
        " - Because files are limited resources managed by the operating system, making sure files are closed after use will protect against hard-to-debug issues like running out of file handles or experiencing corrupted data.\n",
        "\n",
        "20. What is the difference between file.read() and file.readline() in Python\n",
        " - In Python, the `read()` method is used to read a specified number of characters from a file or input stream, while the `readline()` method is used to read a single line from a file or input stream. The `read()` method will read the entire content of the file or stream if no argument is provided, returning a string.\n",
        "\n",
        "21. What is the logging module in Python used for?\n",
        " - The logging module in Python is used to track events that happen while a program is running. It's a built-in feature in the Python standard library.\n",
        "\n",
        "22. What is the os module in Python used for in file handling?\n",
        " - Python has a built-in os module with methods for interacting with the operating system, like creating files and directories, management of files and directories, input, output, environment variables, process management, etc.\n",
        "\n",
        "23. What are the challenges associated with memory management in Python?\n",
        " - The basic problem in managing memory is knowing when to keep the data it contains, and when to throw it away so that the memory can be reused. This sounds easy, but is, in fact, such a hard problem that it is an entire field of study in its own right.\n",
        "\n",
        "24. How do you raise an exception manually in Python?\n",
        " - In Python, we can raise either built-in or custom exceptions. When we raise an exception, the result is the same as when Python does it. we get an exception traceback, and our program crashes unless we handle the exception on time.\n",
        "\n",
        "25. Why is it important to use multithreading in certain applications?\n",
        " - Multithreading is important in certain applications because it allows for the simultaneous execution of multiple tasks within a single program.   \n",
        "   "
      ],
      "metadata": {
        "id": "3ISMTSGhjjjM"
      }
    },
    {
      "cell_type": "code",
      "source": [
        "# 1. How can you open a file for writing in Python and write a string to it\n",
        "\n",
        "text_file = open('file.txt','r')\n",
        "\n",
        "#Another method using full location\n",
        "text_file2 = open('/home/imtiaz/file.txt','r')\n",
        "print('First Method')\n",
        "print(text_file)\n",
        "\n",
        "print('Second Method')\n",
        "print(text_file2)"
      ],
      "metadata": {
        "id": "b5DFI0Doohbu"
      },
      "execution_count": null,
      "outputs": []
    },
    {
      "cell_type": "code",
      "source": [
        " # 2. Write a Python program to read the contents of a file and print each line\n",
        "\n",
        "with open('filename.txt', 'r') as file:\n",
        "    # Read each line in the file\n",
        "    for line in file:\n",
        "        # Print each line\n",
        "        print(line.strip())"
      ],
      "metadata": {
        "id": "dI_0Aj_Lo-qu"
      },
      "execution_count": null,
      "outputs": []
    },
    {
      "cell_type": "code",
      "source": [
        "# 3. How would you handle a case where the file doesn't exist while trying to open it for reading\n",
        "\n",
        "f = open('my_file.dat')\n",
        "    f.readfile()\n",
        "    print('Loaded data')"
      ],
      "metadata": {
        "id": "Ytulyg6lpTUo"
      },
      "execution_count": null,
      "outputs": []
    },
    {
      "cell_type": "code",
      "source": [
        "# 4. Write a Python script that reads from one file and writes its content to another file\n",
        "\n",
        "# Taking \"gfg input file.txt\" as input file\n",
        "# in reading mode\n",
        "with open(\"gfg input file.txt\", \"r\") as input:\n",
        "\n",
        "\t# Creating \"gfg output file.txt\" as output\n",
        "\t# file in write mode\n",
        "\twith open(\"gfg output file.txt\", \"w\") as output:\n",
        "\n",
        "\t\t# Writing each line from input file to\n",
        "\t\t# output file using loop\n",
        "\t\tfor line in input:\n",
        "\t\t\toutput.write(line)\n"
      ],
      "metadata": {
        "id": "Zdfc5mwOpj9L"
      },
      "execution_count": null,
      "outputs": []
    },
    {
      "cell_type": "code",
      "source": [
        "# 5. How would you catch and handle division by zero error in Python\n",
        "\n",
        "a=15.0\n",
        "b=5.0\n",
        "if b==0:\n",
        "  print(\"Denominator is zero\")\n",
        "else:\n",
        "  print(a/b)"
      ],
      "metadata": {
        "id": "0EvDZqDLp3xm"
      },
      "execution_count": null,
      "outputs": []
    },
    {
      "cell_type": "code",
      "source": [
        "# 6. Write a Python program that logs an error message to a log file when a division by zero exception occurs\n",
        "\n",
        "def divideTwoNums(x, y):\n",
        " if y == 0:\n",
        "   return \"You can't divide a number by zero!\"\n",
        " else:\n",
        "   return x / y\n",
        "\n",
        "print(divideTwoNums(6, 2))\n",
        "print(divideTwoNums(6, 0))"
      ],
      "metadata": {
        "id": "xGbbCHcIqgSj"
      },
      "execution_count": null,
      "outputs": []
    },
    {
      "cell_type": "code",
      "source": [
        "# 7.  How do you log information at different levels (INFO, ERROR, WARNING) in Python using the logging module\n",
        "\n",
        "import logging\n",
        "logging.warning('Watch out!')  # will print a message to the console\n",
        "logging.info('I told you so')  # will not print anything"
      ],
      "metadata": {
        "id": "jEyQZtUorLns"
      },
      "execution_count": null,
      "outputs": []
    },
    {
      "cell_type": "code",
      "source": [
        "# 8.  Write a program to handle a file opening error using exception handling\n",
        "\n",
        " f = open('my_file.dat')\n",
        "    f.readfile()\n",
        "    print('Loaded data')\n",
        "except:"
      ],
      "metadata": {
        "id": "R6GFnGnLroc-"
      },
      "execution_count": null,
      "outputs": []
    },
    {
      "cell_type": "code",
      "source": [
        "# 9. How can you read a file line by line and store its content in a list in Python\n",
        "\n",
        "file = open(\"example.txt\")\n",
        "\n",
        "print(file.read())"
      ],
      "metadata": {
        "id": "yZyzoa6rr5kA"
      },
      "execution_count": null,
      "outputs": []
    },
    {
      "cell_type": "code",
      "source": [
        "# 10. How can you append data to an existing file in Python\n",
        "\n",
        "new_list = [1,2,3,4,5]\n",
        "string_list.append(new_list)\n",
        "\n",
        "print(string_list)"
      ],
      "metadata": {
        "id": "NbbW54VgsLr2"
      },
      "execution_count": null,
      "outputs": []
    },
    {
      "cell_type": "code",
      "source": [
        "# 11. Write a Python program that uses a try-except block to handle an error when attempting to access a\n",
        "# dictionary key that doesn't exist\n",
        "\n",
        "try:\n",
        "    my_dict = {'a': 1, 'b': 2, 'c': 3}\n",
        "    print(my_dict['d'])\n",
        "except KeyError:\n",
        "    print(\"Error: Key not found in dictionary\")"
      ],
      "metadata": {
        "id": "JKBldhYzswI5"
      },
      "execution_count": null,
      "outputs": []
    },
    {
      "cell_type": "code",
      "source": [
        "# 12. Write a program that demonstrates using multiple except blocks to handle different types of exceptions\n",
        "\n",
        "n = 10\n",
        "try:\n",
        "    res = n / 0"
      ],
      "metadata": {
        "id": "0uisfrPAs52Q"
      },
      "execution_count": null,
      "outputs": []
    },
    {
      "cell_type": "code",
      "source": [
        "# 13. How would you check if a file exists before attempting to read it in Python\n",
        "\n",
        "file_path = 'my_data/my_file.txt'\n",
        "\n",
        "# Check if the file exists\n",
        "if os.path.exists(file_path):\n",
        "   print(\"The file exists.\")\n",
        "else:\n",
        "   print(\"The file does not exist.\")"
      ],
      "metadata": {
        "id": "hyKRvw-3tLCa"
      },
      "execution_count": null,
      "outputs": []
    },
    {
      "cell_type": "code",
      "source": [
        "# 14. Write a program that uses the logging module to log both informational and error messages\n",
        "\n",
        "import logging\n",
        "name = 'GFG'\n",
        "logging.error('%s raised an error', name)"
      ],
      "metadata": {
        "id": "rThfv_nStWur"
      },
      "execution_count": null,
      "outputs": []
    },
    {
      "cell_type": "code",
      "source": [
        "# 15. Write a Python program that prints the content of a file and handles the case when the file is empty\n",
        "\n",
        "file_path = 'sample.txt'\n",
        "\n",
        "\n",
        "    with open(file_path, 'r') as file:\n",
        "        # Read the content of the file\n",
        "        file_content = file.read()\n",
        "\n",
        "        # Print the content\n",
        "        print(&quot;File Content:\\n&quot;, file_content)\n"
      ],
      "metadata": {
        "id": "bp4NcSMltmvo"
      },
      "execution_count": null,
      "outputs": []
    },
    {
      "cell_type": "code",
      "source": [
        "# 16. Demonstrate how to use memory profiling to check the memory usage of a small program\n",
        "\n",
        "from memory_profiler import profile\n",
        "@profile\n",
        "\n",
        "def allocate_memory():\n",
        "    # Allocate a list with a range of numbers\n",
        "    a = [i for i in range(10000)]\n",
        "    # Allocate another list with squares of numbers\n",
        "    b = [i ** 2 for i in range(10000)]\n",
        "    return a, b\n",
        "\n",
        "if __name__ == \"__main__\":\n",
        "    allocate_memory()"
      ],
      "metadata": {
        "id": "1QhO_hLwt3Xb"
      },
      "execution_count": null,
      "outputs": []
    },
    {
      "cell_type": "code",
      "source": [
        "# 17. Write a Python program to create and write a list of numbers to a file, one number per line\n",
        "\n",
        "numbers = range(0, 10)\n",
        "\n",
        "filename = \"output_numbers.txt\"\n",
        "\n",
        "#w tells python we are opening the file to write into it\n",
        "outfile = open(filename, 'w')\n",
        "\n",
        "for number in numbers:\n",
        "\toutfile.write(str(number))\n",
        "\n",
        "outfile.close()"
      ],
      "metadata": {
        "id": "F9Ha77hHuHEo"
      },
      "execution_count": null,
      "outputs": []
    },
    {
      "cell_type": "code",
      "source": [
        "# 18. How would you implement a basic logging setup that logs to a file with rotation after 1MB\n",
        "\n",
        " # Create a logger\n",
        "logger = logging.getLogger('my_logger')\n",
        "\n",
        "# Create a handler and set its level\n",
        "handler = logging.StreamHandler()\n",
        "handler.setLevel(logging.DEBUG)\n",
        "\n",
        "# Create a formatter\n",
        "formatter = logging.Formatter('%(asctime)s - %(name)s - %(levelname)s - %(message)s')\n",
        "\n",
        "# Add the formatter to the handler\n",
        "handler.setFormatter(formatter)\n",
        "\n",
        "# Add the handler to the logger\n",
        "logger.addHandler(handler)\n",
        "\n",
        "# Set the logger level\n",
        "logger.setLevel(logging.DEBUG)"
      ],
      "metadata": {
        "id": "CHgih6g4uQBz"
      },
      "execution_count": null,
      "outputs": []
    },
    {
      "cell_type": "code",
      "source": [
        "# 19.  Write a program that handles both IndexError and KeyError using a try-except block\n",
        "\n",
        "subjects = {'Sree': 'Maths',\n",
        "            'Ram': 'Biology',\n",
        "            'Shyam': 'Science',\n",
        "            'Abdul': 'Hindi'}\n",
        "\n",
        "# Printing the subject of Fharan\n",
        "print(subjects['Fharan'])"
      ],
      "metadata": {
        "id": "Rs4DnepyyHnN"
      },
      "execution_count": null,
      "outputs": []
    },
    {
      "cell_type": "code",
      "source": [
        "# 20. How would you open a file and read its contents using a context manager in Python\n",
        "\n",
        "class ContextManager():\n",
        "    def __init__(self):\n",
        "        print('init method called')\n",
        "\n",
        "    def __enter__(self):\n",
        "        print('enter method called')\n",
        "        return self\n",
        "\n",
        "    def __exit__(self, exc_type, exc_value, exc_traceback):\n",
        "        print('exit method called')\n",
        "\n",
        "with ContextManager() as manager:\n",
        "    print('with statement block')"
      ],
      "metadata": {
        "id": "qSpaC6_YyQIe"
      },
      "execution_count": null,
      "outputs": []
    },
    {
      "cell_type": "code",
      "source": [
        "# 21. Write a Python program that reads a file and prints the number of occurrences of a specific word\n",
        "\n",
        "def count_word_occurrences(file_path, word):\n",
        "\n"
      ],
      "metadata": {
        "id": "0LCkzq1Nyi_b"
      },
      "execution_count": null,
      "outputs": []
    },
    {
      "cell_type": "code",
      "source": [
        "# 22. How can you check if a file is empty before attempting to read its contents\n",
        "\n",
        "file_path = 'ANY FILE NAME'\n",
        "\n",
        "# open the file in read mode\n",
        "with open(file_path, 'r') as file_obj:\n",
        "    # read first character\n",
        "    first_char = file_obj.read(1)\n",
        "\n",
        "    if not first_char:\n",
        "        print(\"File is empty\")\n",
        "    else:\n",
        "        print(\"File is NOT empty\")"
      ],
      "metadata": {
        "id": "cmYoUxa_yuyL"
      },
      "execution_count": null,
      "outputs": []
    },
    {
      "cell_type": "code",
      "source": [
        "# 23. Write a Python program that writes to a log file when an error occurs during file handling\n",
        "\n",
        "filename = 'non_existent_file.txt'\n",
        "\n",
        "if filename:\n",
        "    content = open(filename, 'r').read()\n",
        "    if content:\n",
        "        print(\"File content exists:\")\n",
        "        print(content)\n",
        "    else:\n",
        "        print(\"File is empty.\")\n",
        "else:\n",
        "    print(\"Filename is invalid.\")\n"
      ],
      "metadata": {
        "id": "PEGyslxqy7bz"
      },
      "execution_count": null,
      "outputs": []
    }
  ]
}